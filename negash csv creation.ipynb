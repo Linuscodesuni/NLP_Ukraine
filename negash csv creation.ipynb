{
 "cells": [
  {
   "cell_type": "code",
   "execution_count": 2,
   "id": "bc2a2480",
   "metadata": {},
   "outputs": [],
   "source": [
    "import fitz  # PyMuPDF library (also known as Fitz) for PDF parsing, extracting\n",
    "import re\n",
    "import os\n",
    "import csv\n",
    "import pandas as pd\n",
    "import glob"
   ]
  },
  {
   "cell_type": "code",
   "execution_count": 91,
   "id": "4265d05d",
   "metadata": {},
   "outputs": [],
   "source": [
    "pdf_path = \"C:/Users/docli/sad added\"\n",
    "pdf_files = [file for file in os.listdir(pdf_path) if file.endswith('.pdf')]"
   ]
  },
  {
   "cell_type": "code",
   "execution_count": 92,
   "id": "03c5a76f",
   "metadata": {},
   "outputs": [
    {
     "data": {
      "text/plain": [
       "2"
      ]
     },
     "execution_count": 92,
     "metadata": {},
     "output_type": "execute_result"
    }
   ],
   "source": [
    "len(pdf_files)"
   ]
  },
  {
   "cell_type": "code",
   "execution_count": 93,
   "id": "15f9cbcc",
   "metadata": {},
   "outputs": [],
   "source": [
    "#Load and extract text from the PDF:\n",
    "def extract_text_from_pdf(pdf_path):\n",
    "    text = \"\"\n",
    "    with fitz.open(pdf_path) as pdf_document:\n",
    "        num_pages = pdf_document.page_count\n",
    "        for page_num in range(num_pages):\n",
    "            page = pdf_document.load_page(page_num)\n",
    "            text += page.get_text(\"text\")\n",
    "    return text"
   ]
  },
  {
   "cell_type": "code",
   "execution_count": 94,
   "id": "9edabf9e",
   "metadata": {},
   "outputs": [],
   "source": [
    "def clean_newlines_extraspaces(text):\n",
    "    # Remove extra spaces, newlines, and multiple spaces\n",
    "    cleaned_text = re.sub(r'\\s+', ' ', text).strip()\n",
    "    return cleaned_text"
   ]
  },
  {
   "cell_type": "code",
   "execution_count": 95,
   "id": "0fca3f9a",
   "metadata": {},
   "outputs": [],
   "source": [
    "#Extarcting and storing into list called extracted_news\n",
    "extracted_news=[] #Create an empyt list to store texts from every pdf file in our newsdata folder\n",
    "for file in pdf_files:\n",
    "    filePath=open(pdf_path+'/'+file,'r')#locate and open the pdf file and read it\n",
    "    extracted_news.append(extract_text_from_pdf(filePath)) # pass the text extracting function from pdf and add to our list"
   ]
  },
  {
   "cell_type": "code",
   "execution_count": 96,
   "id": "833a775a",
   "metadata": {},
   "outputs": [],
   "source": [
    "def remove_text_before_delimiter(text, delimiter):\n",
    "    remaining_text = text.split(delimiter)[-1].strip()\n",
    "    return remaining_text"
   ]
  },
  {
   "cell_type": "code",
   "execution_count": 97,
   "id": "a2517d42",
   "metadata": {},
   "outputs": [],
   "source": [
    "segmented_news=[]\n",
    "for news in extracted_news:\n",
    "    segmented_news.append(remove_text_before_delimiter(news,\"\\nBody\\n\"))"
   ]
  },
  {
   "cell_type": "code",
   "execution_count": 98,
   "id": "fb3fc1f2",
   "metadata": {},
   "outputs": [],
   "source": [
    "#split list elements into two parts when either \"Graphic\" or \"Load-Date:\" is found\n",
    "def split_elements_by_delimiters(input_list, delimiter1, delimiter2):\n",
    "    amount=0\n",
    "    new_list = []\n",
    "    for item in input_list:\n",
    "        if delimiter1 in item:\n",
    "            segments = re.split(f\"{delimiter1}\", item)\n",
    "            new_list.extend(segments)\n",
    "        elif delimiter2 in item:\n",
    "            segments = re.split(f\"{delimiter2}\", item)\n",
    "            new_list.extend(segments)\n",
    "        else:\n",
    "            new_list.append(\"News without date\")\n",
    "    return new_list"
   ]
  },
  {
   "cell_type": "code",
   "execution_count": 99,
   "id": "f5534bd8",
   "metadata": {},
   "outputs": [],
   "source": [
    "updated_segmented_news=split_elements_by_delimiters(segmented_news, \"Graphic\\n\" , \"Load-Date:\")"
   ]
  },
  {
   "cell_type": "code",
   "execution_count": 100,
   "id": "db1f7133",
   "metadata": {},
   "outputs": [],
   "source": [
    "updated_segmented_news_date = [item for item in updated_segmented_news if item != \"News without date\"]"
   ]
  },
  {
   "cell_type": "code",
   "execution_count": 101,
   "id": "826bed30",
   "metadata": {},
   "outputs": [],
   "source": [
    "def extract_dates_from_list(input_list):\n",
    "    date_pattern = r\"\\b(?:January|February|March|April|May|June|July|August|September|October|November|December)\\s+\\d{1,2},\\s+\\d{4}\\b\"\n",
    "    dates = [re.search(date_pattern, item).group() for item in input_list if re.search(date_pattern, item)]\n",
    "    return dates"
   ]
  },
  {
   "cell_type": "code",
   "execution_count": 102,
   "id": "66e4c838",
   "metadata": {},
   "outputs": [],
   "source": [
    "newsdate=extract_dates_from_list(updated_segmented_news_date[1::2])"
   ]
  },
  {
   "cell_type": "code",
   "execution_count": 103,
   "id": "59a41cdb",
   "metadata": {},
   "outputs": [
    {
     "data": {
      "text/plain": [
       "2"
      ]
     },
     "execution_count": 103,
     "metadata": {},
     "output_type": "execute_result"
    }
   ],
   "source": [
    "len(updated_segmented_news_date[0::2])"
   ]
  },
  {
   "cell_type": "code",
   "execution_count": 104,
   "id": "150ffd4d",
   "metadata": {},
   "outputs": [
    {
     "data": {
      "text/plain": [
       "2"
      ]
     },
     "execution_count": 104,
     "metadata": {},
     "output_type": "execute_result"
    }
   ],
   "source": [
    "len(list(newsdate))"
   ]
  },
  {
   "cell_type": "code",
   "execution_count": 105,
   "id": "aea7dfe3",
   "metadata": {},
   "outputs": [],
   "source": [
    "#replace the elements at odd indices of a list with news date\n",
    "for i in range(1, len(updated_segmented_news_date), 2):  # Iterate over odd indices\n",
    "        updated_segmented_news_date[i] = newsdate.pop(0)"
   ]
  },
  {
   "cell_type": "code",
   "execution_count": 106,
   "id": "5041283c",
   "metadata": {},
   "outputs": [],
   "source": [
    "for i in range(0, len(updated_segmented_news_date), 2):  # Iterate over even indices\n",
    "        updated_segmented_news_date[i] = clean_newlines_extraspaces(updated_segmented_news_date[i])"
   ]
  },
  {
   "cell_type": "code",
   "execution_count": 107,
   "id": "ac269ad9",
   "metadata": {},
   "outputs": [],
   "source": [
    "        \n",
    "def clean_urls_phone_emails(item):\n",
    "    \n",
    "    # Remove website URLs\n",
    "    item = re.sub(r'http[s]?://(?:[a-zA-Z]|[0-9]|[$-_@.&+]|[!*\\\\(\\\\),]|(?:%[0-9a-fA-F][0-9a-fA-F]))+', '', item)\n",
    "\n",
    "    # Remove phone numbers (formats: XXX-XXX-XXXX, (XXX) XXX-XXXX)\n",
    "    item = re.sub(r'\\b(?:\\d{3}-\\d{3}-\\d{4}|\\(\\d{3}\\) \\d{3}-\\d{4})\\b', '', item)\n",
    "\n",
    "    # Remove emails\n",
    "    item = re.sub(r'\\b[A-Za-z0-9._%+-]+@[A-Za-z0-9.-]+\\.[A-Z|a-z]{2,7}\\b', '', item)\n",
    "\n",
    "    # Remove links or placeholders\n",
    "    item = re.sub(r'\\b(?:http[s]?://\\S+|www\\.\\S+|\\b\\[link\\]\\b)\\b', '', item, flags=re.IGNORECASE)\n",
    "    \n",
    "    return item"
   ]
  },
  {
   "cell_type": "code",
   "execution_count": 108,
   "id": "3aff92fe",
   "metadata": {},
   "outputs": [],
   "source": [
    "for i in range(0, len(updated_segmented_news_date), 2):  # Iterate over even indices\n",
    "    updated_segmented_news_date[i] = clean_urls_phone_emails(updated_segmented_news_date[i])"
   ]
  },
  {
   "cell_type": "code",
   "execution_count": null,
   "id": "41a52c36",
   "metadata": {},
   "outputs": [],
   "source": []
  },
  {
   "cell_type": "code",
   "execution_count": null,
   "id": "e0258cdb-8c5f-42c7-b434-7f904dfc54e1",
   "metadata": {},
   "outputs": [],
   "source": []
  },
  {
   "cell_type": "code",
   "execution_count": null,
   "id": "7364d2f1-803f-4227-b7d6-0cc2407ad4c4",
   "metadata": {},
   "outputs": [],
   "source": []
  },
  {
   "cell_type": "code",
   "execution_count": null,
   "id": "23ccd71b-44da-4f53-b54b-f2cb2e76b35b",
   "metadata": {},
   "outputs": [],
   "source": []
  },
  {
   "cell_type": "code",
   "execution_count": 43,
   "id": "a816d1f7",
   "metadata": {},
   "outputs": [],
   "source": [
    "Anger=updated_segmented_news_date"
   ]
  },
  {
   "cell_type": "code",
   "execution_count": 192,
   "id": "b9196d85",
   "metadata": {},
   "outputs": [],
   "source": [
    "Anticipation=updated_segmented_news_date"
   ]
  },
  {
   "cell_type": "code",
   "execution_count": 88,
   "id": "b33d54dc",
   "metadata": {},
   "outputs": [],
   "source": [
    "Disgust=updated_segmented_news_date"
   ]
  },
  {
   "cell_type": "code",
   "execution_count": 22,
   "id": "8d0fc1f5",
   "metadata": {},
   "outputs": [],
   "source": [
    "Fear=updated_segmented_news_date"
   ]
  },
  {
   "cell_type": "code",
   "execution_count": 84,
   "id": "849851a9",
   "metadata": {},
   "outputs": [],
   "source": [
    "Joy=updated_segmented_news_date"
   ]
  },
  {
   "cell_type": "code",
   "execution_count": 109,
   "id": "9f0939d1",
   "metadata": {},
   "outputs": [],
   "source": [
    "Sadness=updated_segmented_news_date"
   ]
  },
  {
   "cell_type": "code",
   "execution_count": 64,
   "id": "bad69a2b",
   "metadata": {},
   "outputs": [],
   "source": [
    "Surprise=updated_segmented_news_date"
   ]
  },
  {
   "cell_type": "code",
   "execution_count": 172,
   "id": "bf01ed4e",
   "metadata": {},
   "outputs": [],
   "source": [
    "Trust=updated_segmented_news_date"
   ]
  },
  {
   "cell_type": "code",
   "execution_count": 112,
   "id": "a6281cb3-40ba-44fe-a412-894dbe75ad98",
   "metadata": {},
   "outputs": [],
   "source": [
    "def save_list_to_csv(even_index_values, odd_index_values, filename):\n",
    "    with open(filename, 'w', newline='',encoding= \"utf-8\") as csvfile:\n",
    "        csv_writer = csv.writer(csvfile)\n",
    "        csv_writer.writerow([\"News Article\", \"News Date\",\"Sentiment\",\"Remark\"])\n",
    "        \n",
    "        max_length = max(len(even_index_values), len(odd_index_values))\n",
    "        \n",
    "        for i in range(max_length):\n",
    "            even_value = even_index_values[i] if i < len(even_index_values) else \"\"\n",
    "            odd_value = odd_index_values[i] if i < len(odd_index_values) else \"\"\n",
    "            csv_writer.writerow([even_value, odd_value,2,'sadness'])"
   ]
  },
  {
   "cell_type": "code",
   "execution_count": 322,
   "id": "9f0ae532-681b-4fb7-912a-e67ead762948",
   "metadata": {},
   "outputs": [
    {
     "data": {
      "text/plain": [
       "'December 18, 2022'"
      ]
     },
     "execution_count": 322,
     "metadata": {},
     "output_type": "execute_result"
    }
   ],
   "source": [
    "Surprise[5]"
   ]
  },
  {
   "cell_type": "code",
   "execution_count": 323,
   "id": "a865e7ce-39ca-40a1-aeb1-c80bccf8f605",
   "metadata": {},
   "outputs": [
    {
     "data": {
      "text/plain": [
       "'April 28, 2023'"
      ]
     },
     "execution_count": 323,
     "metadata": {},
     "output_type": "execute_result"
    }
   ],
   "source": [
    "Disgust[5]"
   ]
  },
  {
   "cell_type": "code",
   "execution_count": 113,
   "id": "01fedbf7",
   "metadata": {},
   "outputs": [],
   "source": [
    "original_list = Sadness\n",
    "even_index_values = [original_list[i] for i in range(len(original_list)) if i % 2 == 0]\n",
    "odd_index_values = [original_list[i] for i in range(len(original_list)) if i % 2 != 0]\n",
    "\n",
    "save_list_to_csv(even_index_values, odd_index_values, \"sadness_2.csv\")\n"
   ]
  },
  {
   "cell_type": "raw",
   "id": "8d329f09-2f97-43d5-b5b6-836701e2426c",
   "metadata": {},
   "source": [
    "df=pd.read_csv(\"C:/Users/docli/Disgust.csv\")"
   ]
  },
  {
   "cell_type": "code",
   "execution_count": 330,
   "id": "f433b287-7a8a-4c33-9b65-804166553602",
   "metadata": {},
   "outputs": [],
   "source": [
    "df_S=pd.read_csv(\"C:/Users/docli/Surprise.csv\")"
   ]
  },
  {
   "cell_type": "code",
   "execution_count": 329,
   "id": "7c94d3b9-f7fe-4dde-8181-0a971e324c42",
   "metadata": {},
   "outputs": [
    {
     "name": "stdout",
     "output_type": "stream",
     "text": [
      "                                         News Article           News Date  \\\n",
      "0   Als 75-Jähriger rüttelt man nicht mehr an pers...   November 20, 2022   \n",
      "1   Schon bald dürfte dem Dornbirner mehr Zeit für...  September 18, 2022   \n",
      "2   Mehr als ein Jahr nach Kriegsbeginn in der Ukr...      April 28, 2023   \n",
      "3   Viktor GröllBad Birnbach Nach zwei Jahren Zwan...    January 12, 2023   \n",
      "4   Im Gegensatz zu Herrn Merey bin ich sehr froh,...    January 10, 2023   \n",
      "5   Altbürgermeister Klaus von Dohnanyi wird 95 - ...       June 18, 2023   \n",
      "6   Von Ansgar Haase, Michel Winde und Andreas Ste...    February 3, 2023   \n",
      "7   Eine gefährliche Eskalation zeichnet sich ab F...    February 3, 2023   \n",
      "8   Selbst das Banale wird im Krieg zum Luxus. In ...   November 24, 2022   \n",
      "9   Jan 04, 2023( ScienceFiles:  Delivered by News...     January 4, 2023   \n",
      "10  Der Wirtschaftsminister wehrt sich gegen die A...   September 6, 2022   \n",
      "11  Der Krieg in der Ukraine beschäftigt unsere Le...    February 6, 2023   \n",
      "12  Jan 28, 2023( Lost in EUrope:  Delivered by Ne...    January 28, 2023   \n",
      "13  «Frontbild» und «Chriegerherz, Panzer und Hund...     October 3, 2022   \n",
      "14  Oct 09, 2022( ScienceFiles:  Delivered by News...     October 9, 2022   \n",
      "15  Betrifft: Erst Arbeit, dann das Essen , Kommen...       July 15, 2023   \n",
      "16  Auch wenn man, wie ich, den Denkmalschutz nich...       June 15, 2023   \n",
      "17  BEFEHLS- AUSGABE. Wolodimir Zelenskij (45) kur...    February 5, 2023   \n",
      "18  Wissen Sie, was ein Leopard an Sprit verbrauch...    January 27, 2023   \n",
      "19  Themensuche Man (oder sagen wir: ich) könnte h...    February 3, 2023   \n",
      "20  Das Interview mit Sahra Wagenknecht findet per...   February 23, 2023   \n",
      "21  Interview Gernot Knödler, Foto Jule Christians...        May 26, 2023   \n",
      "22  Link to PDF Document Ukraine-Krieg Heinz Jorda...   September 9, 2022   \n",
      "23  Am 275. Tag des Kriegs in der Ukraine steht Jü...   December 30, 2022   \n",
      "24  Link to PDF Document Ukraine-Krieg Stefan Stae...    October 21, 2022   \n",
      "25  VON INGO BERGHÖFER VON INGO BERGHÖFER Die AfD ...  September 27, 2022   \n",
      "26  Von Stefan Scholl Moskau. Der russische TV-Pro...    January 26, 2023   \n",
      "27  Kommentar von Bernhard Baumgartner Der ukraini...    January 28, 2023   \n",
      "28  Über ihn wird gerade viel gesprochen, in Deuts...      March 26, 2023   \n",
      "29  Mar 07, 2023( ScienceFiles:  Delivered by News...       March 7, 2023   \n",
      "30  Leserbriefe Zitat des Tages «Der klassische Mä...   November 22, 2022   \n",
      "31  Nov 08, 2022( ScienceFiles:  Delivered by News...    November 8, 2022   \n",
      "32  Betrifft: Deutschland liefert doch Kampfpanzer...    January 28, 2023   \n",
      "33  Der bald abtretende Bundesrat Ueli Maurer (SVP...     October 7, 2022   \n",
      "34  Marian Nadler Der Güterzug rauscht heran. Auf ...      March 24, 2023   \n",
      "35  der rote faden Durch die Woche mit Nina Apin P...    October 14, 2022   \n",
      "36  Das sinnlose Wüten der Russen in der Ukraine w...    October 17, 2022   \n",
      "37  Link to PDF Document Von Gregor Mayntz Brüssel...       July 22, 2023   \n",
      "38  Und wieder bricht ein Stück meiner Welt zusamm...    January 27, 2023   \n",
      "39  ,,Sanktionen stoppen? Nein!\": Warum Sahra Wage...  September 19, 2022   \n",
      "40  Jan 23, 2023( ScienceFiles:  Delivered by News...    January 23, 2023   \n",
      "41  W er immer sich am Samstag der Hoffnung hingeg...       June 28, 2023   \n",
      "42  Warum beginnen die Kriege Russlands stets mit ...       June 29, 2023   \n",
      "43  D as Video haben Blogger ins Netz gestellt, es...       June 25, 2023   \n",
      "44  VON MARKUS DECKER UND KARL DOEMENS (RND) Berli...    January 20, 2023   \n",
      "45  Wer Führung bestellt, bekommt sie auch\", hatte...     January 7, 2023   \n",
      "46  Kommentar von Tobias Schulze über die Forderun...    January 27, 2023   \n",
      "47  Panzerlieferung. Der deutsche Kanzler sorgt si...    January 25, 2023   \n",
      "48  Herr Bartsch, die Entscheidung für eine Kampfp...   February 18, 2023   \n",
      "49  Er hat als Staats- und Bundesminister unter de...       June 22, 2023   \n",
      "\n",
      "    Sentiment   Remark  \n",
      "0           5  Disgust  \n",
      "1           5  Disgust  \n",
      "2           5  Disgust  \n",
      "3           5  Disgust  \n",
      "4           5  Disgust  \n",
      "5           5  Disgust  \n",
      "6           5  Disgust  \n",
      "7           5  Disgust  \n",
      "8           5  Disgust  \n",
      "9           5  Disgust  \n",
      "10          5  Disgust  \n",
      "11          5  Disgust  \n",
      "12          5  Disgust  \n",
      "13          5  Disgust  \n",
      "14          5  Disgust  \n",
      "15          5  Disgust  \n",
      "16          5  Disgust  \n",
      "17          5  Disgust  \n",
      "18          5  Disgust  \n",
      "19          5  Disgust  \n",
      "20          5  Disgust  \n",
      "21          5  Disgust  \n",
      "22          5  Disgust  \n",
      "23          5  Disgust  \n",
      "24          5  Disgust  \n",
      "25          5  Disgust  \n",
      "26          5  Disgust  \n",
      "27          5  Disgust  \n",
      "28          5  Disgust  \n",
      "29          5  Disgust  \n",
      "30          5  Disgust  \n",
      "31          5  Disgust  \n",
      "32          5  Disgust  \n",
      "33          5  Disgust  \n",
      "34          5  Disgust  \n",
      "35          5  Disgust  \n",
      "36          5  Disgust  \n",
      "37          5  Disgust  \n",
      "38          5  Disgust  \n",
      "39          5  Disgust  \n",
      "40          5  Disgust  \n",
      "41          5  Disgust  \n",
      "42          5  Disgust  \n",
      "43          5  Disgust  \n",
      "44          5  Disgust  \n",
      "45          5  Disgust  \n",
      "46          5  Disgust  \n",
      "47          5  Disgust  \n",
      "48          5  Disgust  \n",
      "49          5  Disgust  \n"
     ]
    }
   ],
   "source": [
    "print(df)"
   ]
  },
  {
   "cell_type": "code",
   "execution_count": 331,
   "id": "812f8784-7769-4c86-8d0d-d4c8de31d95b",
   "metadata": {},
   "outputs": [
    {
     "name": "stdout",
     "output_type": "stream",
     "text": [
      "                                         News Article           News Date  \\\n",
      "0   Schönbrunn am Lusen. ,Gemeinsam das Erinnern e...   November 20, 2022   \n",
      "1   Energie-GAU, Inflation, Rezession, Panik und v...  September 16, 2022   \n",
      "2   Der Ausfall von 18 Puma-Schützenpanzern bei ei...   December 18, 2022   \n",
      "3   Der überraschende Besuch von Außenministerin A...  September 11, 2022   \n",
      "4   Washington - In der Debatte um die Entsendung ...    January 24, 2023   \n",
      "5   Der Präsident war voll des Lobes für das verbü...   February 27, 2023   \n",
      "6   Daniel Gerny, Erich Aschwanden Seit Wochen ste...    January 24, 2023   \n",
      "7   Berlin. Die Bundesregierung ist nun offensicht...    January 24, 2023   \n",
      "8   25 stillgelegte Kampfpanzer vom Typ Leopard 2 ...        May 24, 2023   \n",
      "9   Nun also doch: Die Bundesregierung liefert der...    January 24, 2023   \n",
      "10  Emden/voi - Sein Alltag habe sich in den verga...    February 4, 2023   \n",
      "11  Bevor die Ukraine die ersten Kampfpanzer aus w...    January 26, 2023   \n",
      "12  ,Ich wäre gerade sehr froh, wenn der Außenmini...     October 6, 2022   \n",
      "13  Bremerhaven - Die US Army lässt sich nicht in ...   February 16, 2023   \n",
      "14  Kommentar von Tobias Schulze zu den Panzerlief...    January 25, 2023   \n",
      "15  Die Lieferung von Leopard-Kampfpanzern in die ...    January 19, 2023   \n",
      "16  Vilnius (dpa) Wegen des Streits um eine Repara...       July 12, 2023   \n",
      "17  Neben Deutschland will auch Tschechien der Sch...       March 6, 2023   \n",
      "18  Binnen weniger Wochen hat sich Deutschlands Ro...   February 14, 2023   \n",
      "19  Polen will die von Deutschland zur Verteidigun...    December 7, 2022   \n",
      "20  Diese Woche beschäftigen sich National- und St...       April 5, 2023   \n",
      "21  Dieser Artikel wird fortlaufend aktualisiert. ...    January 24, 2023   \n",
      "22  Link to PDF Document Von Bernd Bütttgens Aache...        May 15, 2023   \n",
      "23  Mehr als ein Dutzend ukrainischer Drohnen star...       July 26, 2023   \n",
      "24  Während ukrainische Soldaten ihre Ausbildung a...      March 27, 2023   \n",
      "\n",
      "    Sentiment    Remark  \n",
      "0           6  Surprise  \n",
      "1           6  Surprise  \n",
      "2           6  Surprise  \n",
      "3           6  Surprise  \n",
      "4           6  Surprise  \n",
      "5           6  Surprise  \n",
      "6           6  Surprise  \n",
      "7           6  Surprise  \n",
      "8           6  Surprise  \n",
      "9           6  Surprise  \n",
      "10          6  Surprise  \n",
      "11          6  Surprise  \n",
      "12          6  Surprise  \n",
      "13          6  Surprise  \n",
      "14          6  Surprise  \n",
      "15          6  Surprise  \n",
      "16          6  Surprise  \n",
      "17          6  Surprise  \n",
      "18          6  Surprise  \n",
      "19          6  Surprise  \n",
      "20          6  Surprise  \n",
      "21          6  Surprise  \n",
      "22          6  Surprise  \n",
      "23          6  Surprise  \n",
      "24          6  Surprise  \n"
     ]
    }
   ],
   "source": [
    "print(df_S)"
   ]
  },
  {
   "cell_type": "code",
   "execution_count": 293,
   "id": "d544d38a",
   "metadata": {},
   "outputs": [],
   "source": [
    "import glob\n",
    "import pandas as pd\n"
   ]
  },
  {
   "cell_type": "code",
   "execution_count": 115,
   "id": "76a1c110",
   "metadata": {},
   "outputs": [],
   "source": [
    "interesting_files = glob.glob(\"C:/Users/docli/*.csv\") \n",
    "df = pd.concat((pd.read_csv(f, header = 0) for f in interesting_files))\n",
    "df_deduplicated = df.drop_duplicates()\n",
    "df_deduplicated.to_csv(\"sentimenstdata_V3.csv\")\n"
   ]
  },
  {
   "cell_type": "code",
   "execution_count": 118,
   "id": "476f89bf",
   "metadata": {},
   "outputs": [],
   "source": [
    "df=pd.read_csv(\"C:/Users/docli/sentimentsdata_V3.csv\")"
   ]
  },
  {
   "cell_type": "code",
   "execution_count": 119,
   "id": "1933b9ce-1472-4bff-a53f-8c5e0d14f912",
   "metadata": {},
   "outputs": [
    {
     "data": {
      "text/html": [
       "<div>\n",
       "<style scoped>\n",
       "    .dataframe tbody tr th:only-of-type {\n",
       "        vertical-align: middle;\n",
       "    }\n",
       "\n",
       "    .dataframe tbody tr th {\n",
       "        vertical-align: top;\n",
       "    }\n",
       "\n",
       "    .dataframe thead th {\n",
       "        text-align: right;\n",
       "    }\n",
       "</style>\n",
       "<table border=\"1\" class=\"dataframe\">\n",
       "  <thead>\n",
       "    <tr style=\"text-align: right;\">\n",
       "      <th></th>\n",
       "      <th>Unnamed: 0</th>\n",
       "      <th>News Article</th>\n",
       "      <th>News Date</th>\n",
       "      <th>Sentiment</th>\n",
       "      <th>Remark</th>\n",
       "      <th>Unnamed: 0.1</th>\n",
       "    </tr>\n",
       "  </thead>\n",
       "  <tbody>\n",
       "    <tr>\n",
       "      <th>0</th>\n",
       "      <td>0</td>\n",
       "      <td>Während die Ukraine weiter auf Kampfpanzer aus...</td>\n",
       "      <td>January 23, 2023</td>\n",
       "      <td>3</td>\n",
       "      <td>Anger</td>\n",
       "      <td>NaN</td>\n",
       "    </tr>\n",
       "    <tr>\n",
       "      <th>1</th>\n",
       "      <td>1</td>\n",
       "      <td>Es kommt selten vor, dass ein General öffentli...</td>\n",
       "      <td>July 30, 2023</td>\n",
       "      <td>3</td>\n",
       "      <td>Anger</td>\n",
       "      <td>NaN</td>\n",
       "    </tr>\n",
       "    <tr>\n",
       "      <th>2</th>\n",
       "      <td>2</td>\n",
       "      <td>VON MARKUS DECKER UND SVEN CHRISTIAN SCHULZ (R...</td>\n",
       "      <td>December 1, 2022</td>\n",
       "      <td>3</td>\n",
       "      <td>Anger</td>\n",
       "      <td>NaN</td>\n",
       "    </tr>\n",
       "    <tr>\n",
       "      <th>3</th>\n",
       "      <td>0</td>\n",
       "      <td>Sie können es nicht richtig machen Heft 41/202...</td>\n",
       "      <td>October 14, 2022</td>\n",
       "      <td>5</td>\n",
       "      <td>Disgust</td>\n",
       "      <td>NaN</td>\n",
       "    </tr>\n",
       "    <tr>\n",
       "      <th>4</th>\n",
       "      <td>1</td>\n",
       "      <td>Ein Ausweg aus dem Wolkenkuckucksheim Immer wi...</td>\n",
       "      <td>February 2, 2023</td>\n",
       "      <td>5</td>\n",
       "      <td>Disgust</td>\n",
       "      <td>NaN</td>\n",
       "    </tr>\n",
       "    <tr>\n",
       "      <th>...</th>\n",
       "      <td>...</td>\n",
       "      <td>...</td>\n",
       "      <td>...</td>\n",
       "      <td>...</td>\n",
       "      <td>...</td>\n",
       "      <td>...</td>\n",
       "    </tr>\n",
       "    <tr>\n",
       "      <th>751</th>\n",
       "      <td>741</td>\n",
       "      <td>Ramstein. Auch bei dem hochrangig besetzten Tr...</td>\n",
       "      <td>January 21, 2023</td>\n",
       "      <td>7</td>\n",
       "      <td>Trust</td>\n",
       "      <td>127.0</td>\n",
       "    </tr>\n",
       "    <tr>\n",
       "      <th>752</th>\n",
       "      <td>742</td>\n",
       "      <td>Ein Leser teilt seine Ansichten zum Krieg in d...</td>\n",
       "      <td>January 27, 2023</td>\n",
       "      <td>7</td>\n",
       "      <td>Trust</td>\n",
       "      <td>128.0</td>\n",
       "    </tr>\n",
       "    <tr>\n",
       "      <th>753</th>\n",
       "      <td>743</td>\n",
       "      <td>Wir treffen den ukrainischen Botschafter in se...</td>\n",
       "      <td>June 17, 2023</td>\n",
       "      <td>7</td>\n",
       "      <td>Trust</td>\n",
       "      <td>129.0</td>\n",
       "    </tr>\n",
       "    <tr>\n",
       "      <th>754</th>\n",
       "      <td>0</td>\n",
       "      <td>Seit einem Jahr greift Russland die Ukraine an...</td>\n",
       "      <td>February 19, 2023</td>\n",
       "      <td>6</td>\n",
       "      <td>Surprise</td>\n",
       "      <td>NaN</td>\n",
       "    </tr>\n",
       "    <tr>\n",
       "      <th>755</th>\n",
       "      <td>1</td>\n",
       "      <td>Aus Madrid und La Coruña Anna Lehmann und Rein...</td>\n",
       "      <td>October 6, 2022</td>\n",
       "      <td>6</td>\n",
       "      <td>Surprise</td>\n",
       "      <td>NaN</td>\n",
       "    </tr>\n",
       "  </tbody>\n",
       "</table>\n",
       "<p>756 rows × 6 columns</p>\n",
       "</div>"
      ],
      "text/plain": [
       "     Unnamed: 0                                       News Article  \\\n",
       "0             0  Während die Ukraine weiter auf Kampfpanzer aus...   \n",
       "1             1  Es kommt selten vor, dass ein General öffentli...   \n",
       "2             2  VON MARKUS DECKER UND SVEN CHRISTIAN SCHULZ (R...   \n",
       "3             0  Sie können es nicht richtig machen Heft 41/202...   \n",
       "4             1  Ein Ausweg aus dem Wolkenkuckucksheim Immer wi...   \n",
       "..          ...                                                ...   \n",
       "751         741  Ramstein. Auch bei dem hochrangig besetzten Tr...   \n",
       "752         742  Ein Leser teilt seine Ansichten zum Krieg in d...   \n",
       "753         743  Wir treffen den ukrainischen Botschafter in se...   \n",
       "754           0  Seit einem Jahr greift Russland die Ukraine an...   \n",
       "755           1  Aus Madrid und La Coruña Anna Lehmann und Rein...   \n",
       "\n",
       "             News Date  Sentiment    Remark  Unnamed: 0.1  \n",
       "0     January 23, 2023          3     Anger           NaN  \n",
       "1        July 30, 2023          3     Anger           NaN  \n",
       "2     December 1, 2022          3     Anger           NaN  \n",
       "3     October 14, 2022          5   Disgust           NaN  \n",
       "4     February 2, 2023          5   Disgust           NaN  \n",
       "..                 ...        ...       ...           ...  \n",
       "751   January 21, 2023          7     Trust         127.0  \n",
       "752   January 27, 2023          7     Trust         128.0  \n",
       "753      June 17, 2023          7     Trust         129.0  \n",
       "754  February 19, 2023          6  Surprise           NaN  \n",
       "755    October 6, 2022          6  Surprise           NaN  \n",
       "\n",
       "[756 rows x 6 columns]"
      ]
     },
     "execution_count": 119,
     "metadata": {},
     "output_type": "execute_result"
    }
   ],
   "source": [
    "df"
   ]
  },
  {
   "cell_type": "code",
   "execution_count": 303,
   "id": "54a0e3d1",
   "metadata": {},
   "outputs": [
    {
     "data": {
      "text/plain": [
       "'Nov 08, 2022( ScienceFiles:  Delivered by Newstex) David Dunning und Justin Kruger haben ihren eigenen Effekt: mit dem Dunning-Kruger-Effekt üben sie erheblichen Einfluss auf die Erklrung von Leuten aus, die in der Inbrunst eigener, falscher berzeugung den gröten Blödsinn erzhlen und sich dabei wichtig fühlen. Je gröer die Inkompetenz, desto gröer die Klappe, so der Effekt, den Dunning und Kruger in ihren Forschungen entdeckt haben. Und dabei bleiben sie stehen. Denn hier endet ihr Forschungsinteresse. Unseres fngt in gewisser Weise erst an. Wie kann man diese Travestien auf einen ernsthaften Menschen erklren? Was ist in ihrer Sozialisation schief gelaufen? Welches Persönlichkeitssyndrom steckt hinter der Fehlentwicklung zu einem inkompetenten Gromaul? Zumindest auf die letzte Frage haben wir einige Antworten im Verlauf der letzten Monate und Jahre gesammelt. Offenkundig findet sich unter denen, die mit groer Klappe Blödsinn verbreiten, ein nicht geringer Anteil von Leuten, die das in dem Bedürfnis tun, anderen zu schaden; allgemeiner gesprochen: Die ein bei ihnen vorhandenes Potential zu Bösartigkeit ausleben. Offenkundig steckt bei manchen der Dunning-Krugers auch ein Bedürfnis nach sozialer Anerkennung hinter der Verbreitung von Unfug, was, aufgrund ihres Dunning-Kruger Syndroms zu einem wiederkehrenden Fiasko führen muss, eben weil Dunning-Kruger! Beides, das Bedürfnis nach Anerkennung und die Bösartigkeit, die manche, wenn nicht viele der Dunning-Krugers teilen, scheint sich gegenseitig zu bedingen. Vielleicht ist die Bösartigkeit, die hinter der Inkompetenz so mancher lugt, das Ergebnis unzhliger, gescheiterter Versuche, gescheit zu erscheinen. Indes, solche Niederlagen könnte man einfach vermeiden: Entweder Klappe halten oder lernen. Beides scheint einer groen Zahl Dunning-Krugers nicht möglich zu sein, zu beidem scheinen sie nicht willig zu sein, was wiederum den Verdacht nahelegt, dass Bösartigkeit von Anfang an ihre Triebkraft war. Bösartigkeit meets Dummheit, quasi. Damit sind wir bei den Kandidaten der heutigen Wahl zum Denkbehinderten der Woche angelangt. Bei ihnen allen ist das Bedürfnis, sich zu \\'veröffentlichen\\' in einer Weise ausgeprgt, die in keinem Verhltnis zur kognitiven Ausstattung steht. Das nachfolgende Fiasko ist somit unvermeidlich. Gleichzeitig zeigen manche unserer Kandidaten deutliche Indizien einer zugrundeliegenden Bösartigkeit, letztlich das Mittel der Armseligen, denen im eigenen Kopf nichts einfllt als das, was andere geleistet haben, zu diskreditieren, in der Hoffnung damit eine gewisse Anziehung auf hnlich elendige Gestalten auszuüben, wie sie selbst es sind. Los geht\\'s Startnummer 1: Fabian Januszewski, Professor für Mathematik Gutmenschliche Böswilligkeit und gelebter Narzissmus in vollstndiger kognitiver Ignoranz: Wahl zum Denkbehinderten der Woche [KW 44]  Mathe-Prof.png?ssl=1 Mancher Blödsinn whrt nur einen Satz: Akt 0: Corona fllt in Schulen vom Himmel. Oder ausführlich: Wie ist Corona nur in Schulen gekommen? ber Familien? Akt 0: Man trgt das Virus aus Familien in Schule, Kita und Arbeitsplatz. Akt 4: Schulen und Kitas sind harmlos. Und in der Tat, das wre damit bewiesen. Mathematik ist ein geschlossenes System, in dem man Beweise führen kann. Vielleicht sollte Professor der Mathematik, Fabian Januszewski dabei bleiben. Die \\'Komplexitt\\' der sozialen Welt scheint ihn massiv zu überfordern. Startnummer 2: Antonio Guterres Original: [embedded content] \\'No stop signs, speed limit - Nobodys gonna slow me down - Like a wheel, gonna spin it - Nobodys gonna mess me round - Hey satan, payed my dues - Playing in a rocking band - Hey momma, look at me - Im on my way to the promised land - OWWW - Im on the highway to hell - Highway to hell - Im on the highway to hell - Highway to hell - Ohhhhh Keine Stopschilder, kein Tempolimit. Niemand wird mich bremsen. Ich laufe wie ein Rad. Niemand wird mich herumkommandieren. Satan hat meinen Beitrag bezahlt. Ich spiele in einer Rockband. Hey Mama, schau mich an: Ich bin auf dem Weg ins Paradies - OWW - Ich bin auf der Schnellstrae zur Hölle - Ich bin auf der Schnellstrae zur Hölle - Schnellstrae zur Hölle - Ohhhhh Plagiat  Guterres.png?ssl=1 Wir sind auf der Schnellstrae in die Klima-Hölle und geben Gas [ich will Spa ich will Spa ] Unser Planet nhert sich schnell dem Kipppunkt, der das Klimachaos unumkehrbar macht. Urteil Uns gefllt AC/DC besser. Die haben noch eine Mission. Unterhaltungswert, Gitarrenriffs, eine gute Show, Rhythm, Lyrics. Was hat Guterres? Ein lahmes Plagiat. Die Hoffnung, dass Leute auf seinen Blödsinn hereinfallen, dessen Prmisse darin besteht, dass wir diejenigen sind, die den Planeten auf seiner Umlaufbahn fahren, mit dem Fuss auf dem Gaspedal, um die Sonne, diesen irrelevanten Stern, der mit dem Klima nichts zu tun hat, der nicht einmal in der Lage ist, das Klima auf der Erde irreversibel zu machen, denn das können nur \\'wir und Guterres\\', mit dem Fuss auf dem Gaspedal. Früher hatten manche Polit-Darsteller noch etwas zu sagen. Seit Sozialisten wie Guterres international Reden halten können, ist der Inhalt auf der Strecke, sind nur Floskeln geblieben, die durch ihre emotionale Ladung wirken sollen. \\'Highway to hell\\', das ist die emotionale Ladung, und nicht einmal die stammt von Guterres. Er hat sie geklaut. Bei AC/DC geklaut. Und deshalb fehlt dem Highway to Hell fehlt ihm der Kontext. Wir nehmen uns die Freiheit, den Kontext zu ergnzen: Niemand wird uns herumkommandieren. Satan hat unseren Beitrag bezahlt. Wir sind auf dem Weg ins Paradies. Keine Stopschilder, kein Tempolimit. Niemand wird uns bremsen. Wir laufen wie ein Rad. Startnummer 3: Jonas Erbas Jonas Erbas fllt durch eine Frage auf, die man eher von einem Kleinkind in einer Kita erwartet htte, das sich über soziale Regeln noch im Unklaren sein kann, ja muss, weil es zu kurze Zeit auf dem Planeten weilt, um genau zu wissen, wie man sich in sozialen Situationen gegenüber anderen Menschen verhlt. Jonas Erbas ist nach allem, was wir in Erfahrung bringen konnten, zumindest uerlich kein Kleinkind mehr. Dennoch stellt er eine Frage, wie sie ein Kleinkind stellt. Diese Frage[1]: Das sind Momente, in denen man im Affekt Logikbücher aus dem Fenster werfen möchte, aber von seiner Ratio zurückgehalten wird, denn die Bücher können nichts dafür, dass Personen wie Jonas Erbas sie nicht zur Kenntnis nehmen, dass ausgerechnet diejenigen, die es so unglaublich nötig htten, ein paar Grundlagen in Logik zu lernen, glauben, ohne diese Art des Lernens auszukommen, sie durch ideologisches Phantasieren ersetzen zu können, wie Erbas das tut[1]: Gutmenschliche Böswilligkeit und gelebter Narzissmus in vollstndiger kognitiver Ignoranz: Wahl zum Denkbehinderten der Woche [KW 44] \\'In der Debatte um Nena, aber auch Xavier Naidoo, Michael Wendler und Co. wird gerne vorschnell auf die Meinungsfreiheit hingewiesen. Doch der Begriff selbst wird mittlerweile inflationr verwendet. Die grundlegende Frage ist doch: Handelt es sich beim bewussten Verdrehen von Wahrheiten, die von Experten hinlnglich mit stichhaltigen Fakten belegt wurden, tatschlich noch um eine Meinung? Ich finde nicht.\\'  Wollte man Erbas auf seinem Niveau begegnen, müsste man natürlich die Frage stellen: Darf man noch guten Gewissens Erbas in der Tz schreiben lassen? Nun ist die Tz ein Revolverblatt und nicht unbedingt das Blatt, zu dem sich diejenigen verirren, die noch wissen, was Journalismus ist, also wollen wir das Blatt, obschon unsere Frage genau das dort gepflegte Niveau abbildet, nicht noch zustzlich in Schwierigkeiten bringen. Ein Jonas reicht. Kehren wir zurück zur Logik, in der insbesondere im Zusammenhang mit den darin diskutierten Fehlschlüssen wieder und wieder darauf hingewiesen wird, dass es einen Unterschied zwischen Gesagtem und Sprecher, oder, für Jonas vielleicht verstndlicher Snger und Lied gibt. Stellen Sie sich vor, es gbe keinen Unterschied, Liedtexte bildeten vielmehr 1:1 das ab, was der Snger denkt. Wo kmen wir dannn hin, was würde es für Frank Walter Steinmeier, den erklrten Fan von Feine Sahne Fischfilet,[2] Sie wissen schon, die \\'Band\\' mit dem Fetten der singt, bedeuten? Nein, es ist schon wichtig, zu unterscheiden. Was ein Snger privat sagt, das hat nichts mit seinen Liedern zu tun. Was er singt, ist nicht zwangslufig seine berzeugung - kaum auszudenken: [embedded content] Wem ein Lied gefllt, dem gefllt nicht notwendigerweise der Liedtext. Wem ein Lied gefllt, dem gefllt nicht notwendigerweise das, was der Snger tut, wenn er nicht singt. Die Komplexitt des sozialen Lebens, die in Kitas eigentlich vermittelt werden sollte, damit Erwachsene Fragen, wie sie Jonas stellt, nicht mehr stellen müssen, sie ist nun einmal so, : komplex. Und Meinungsfreiheit ist Freiheit zur Meinung. Freiheit zeichnet sich dadurch aus, dass sie - wie soll man es Jonas beibringen? - Vielleicht so: FREI ist. Niemand, auch kein Jonas kann die Freiheit anderer, ihre Meinung zu sagen, ja sogar zu singen, einschrnken, auch nicht durch sprachliche Rabulistik: \\'Handelt es sich beim bewussten Verdrehen von Wahrheiten, die von Experten hinlnglich mit stichhaltigen Fakten belegt wurden, tatschlich noch um eine Meinung? Ich finde nicht.\\' Jonas findet nicht. Obwohl er offenkundig, wenn er Fakten durch \\'stichhaltig\\' qualifiziert, das gesamte Konzept von \\'Faktum\\' nicht verstanden hat. Auch hier gilt eine gewisse Schlichtheit. Fakten sind, nun ja, Fakten eben. Sie sind weder stichhaltig noch bedingt noch sonst etwas, sie sind Fakt. Fakt! Wahrheiten wiederum können nicht belegt werden. Wozu sollte man Wahrheiten belegen wollen? Noch dazu mit \\'stichhaltigen Fakten\\', die den Beigeschmack von anrüchig haben, sonst kmen Sie als Fakten daher, schlicht und einfach. Fakt! Und weil es weder stichhaltige Fakten noch belegte Wahrheiten gibt, weil es in der Wissenschaft nur Aussagen gibt, die bislang nicht widerlegt wurden oder umstrittene, deshalb ist die Freiheit alles vorzubringen, was einem zu einem gewissen Thema einfllt, so wichtig. Aber das führt zu weit, ist zu komplex für Jonas. Für ihn reicht der Hinweis, dass es nicht möglich ist, Meinungen, die man nicht mag, deshalb aus dem Meinungsraum auszuschlieen, weil man behauptet, irgendwelche anrüchigen Aussagen, die als \\'stichhaltige Fakten\\' vnr ungenannten Experten ausgegeben werden, würden verdrehte Wahrheiten belegen. Womit wir bei der letzten Kapriole von Jonas sind: Experten belegen mit stichhaltigen Fakten verdrehte Wahrheiten. Schauerlich: Der Ungeist, dem so etwas einfllt. Wirklich schauerlich. Und schauerlich ist die berleitung zum Mann in Bellvue: Startnummer 4: Frank Walter Steinmeier \\'Einmal im Leben etwas für andere tun[3]\\', so ist ein Werbebeitrag, der nicht als solcher gekennzeichnet ist und somit klar gegen den Medienstaatsvertrag verstöt, in der ARD überschrieben. \\'Einmal im Leben etwas für andere tun\\', so liest man mit Bezug auf Steinmeier und fragt sich, ob Frank-Walter Steinmeier tatschlich die Einsicht ereilt hat, er könne in seinem fortgeschrittenen Leben einmal etwas für andere tun, bevor es zu spt ist Aber nein, es geht natürlich darum, dass andere, nicht er, dass andere einmal im Leben etwas für andere tun, für \\'fremde Menschen\\', wie Steinmeier, von dem man annehmen muss, dass ihm alle Menschen fremd sind, weil er nur Gutmenschliche Böswilligkeit und gelebter Narzissmus in vollstndiger kognitiver Ignoranz: Wahl zum Denkbehinderten der Woche [KW 44] Kategorien von Menschen zu kennen scheint, betont. \\'Fremde Menschen\\'. Der Deutsche und das Fremde, eine unendliche Geschichte: 44-Frank-Walter-Steinmeier.png?ssl=1 \\'Im Interview bekommt Steinmeier irgendwann einen Film gezeigt. Es geht um einen Konflikt in der kleinen Gemeinde Steinalben in der Südwestpfalz. Dort soll ein Solarpark entstehen. Der htte viele Vorteile für die Gemeinde aber unter anderem Nachteile für den Artenschutz. Solche Konflikte seien ihm schon ein paar Mal begegnet whrend seiner Reisen im Land. Das sei aber nicht allein reprsentativ für den Zustand unserer Gesellschaft. Die Menschen im Land htten zum Beispiel etwa eine Million Flüchtlinge aus der Ukraine aufgenommen. Nach der Katastrophe im Ahrtal habe es dort tausende Menschen gegeben, die in ihrer Freizeit beim Wiederaufbau geholfen htten. Ja, es gebe Konflikte, aber wenn sie wie in Steinalben mit Respekt voreinander ausgetragen würden, sei ihm nicht bange.\\' Wenn man diesen selbstherrlichen Erguss[4] gelesen hat, dann muss man erst einmal schlucken. Uns geht es so. Und Ihnen? Zurück zum Mann, der nicht für sich die Forderung aufstellt, einmal im Leben etwas für andere zu tun. Der Konflikt zwischen Artenschutz und Solarpark, er führt bei ihm zum Hinweis, dass nicht alle so bescheuert sind, wie die Leute in Steinalben, die \\'Artenschutz\\', also wirklich, die Artenschutz wichtig finden. Andere, bessere \\'Menschen\\', Steinmeier spricht gerne von Menschen, der Begriff ist sein Surrogat für Empathie, bessere Menschen haben in ihrer Freizeit im Ahrtal geholfen, nicht die poltisch Verantwortlichen, nein, \\'tausende Menschen\\', und vermutlich noch bessere Menschen nehmen Flüchtlinge auf. Und in Steinalben, was ist in Steinalben? Dort ist Konflikt wegen Artenschutz? Artenschutz, muss man sich mal vorstellen. Da sorgt man dafür, dass diese Leute bald mit dem Hintern im Kalten sitzen und dennoch sind sie störisch und denken an \\'Artenschutz\\'. Aber, Steinmeier ist nicht bange, wenn Konflikte mit Respekt ausgetragen werden. Etwa mit dem Respekt, den er für \\'die Menschen\\' oder die Arten hat. Startnummer 5: Claudia Kemfert  der-Woche-Claudia-Kemfert.jpg?ssl=1 Vom Solarpark in Steinalben zu Claudia, dem Kemfert für alles Alternative, was die Energiewelt so herzugeben vermag, also Solar und Wind, und ein wenig Biogas, vielleicht ganz zweckmig, wenn man in der Berliner Mohrenstrae residiert, ist es nur einen mentalen Steinwurf. Kemfert hat sich schon seit Jahren dem Ziel verschrieben, die Stromversorgung in Deutschland zum Erliegen zu bringen und whnt sich anlsslich von 30 Jahren BAKS [Bundesakademie für Sicherheitspolitik, ja, die gibt es, von Steuerzahlern finanziert] fast am Ziel. \\'Nur durch eine Vollversorgung aus Erneuerbaren vermeiden wir geopolitische, ökonomische und ökologische Risiken. Erneuerbare sichern Frieden und Freiheit \\' Das Hirn, aus dem dies floss, es wabert noch. Frieden und Freiheit hngen also von Windrdern und Solarzellen ab. Vor allem nachts. Nachts empfehlen wir, den über Tag aus Solarzellen in noch zu entwickelnden Batterien gespeicherten Strom dazu einzusetzen, die Integritt der Eingangstür des Juweliergeschfts gegen diejenigen zu sichern, die die neue erneuerbare Freiheit dazu nutzen wollen, in Nacht und Dunkelheit Lden auszurumen. Und an windstillen Tagen bietet es sich an, die geistigen Ausdünstungen aus der Mohrenstrae in Berlin zu vergasen. Damit lsst sich dann eine Birne in einem beliebigen Krankenhaus betreiben, nennen wir es das Krankenhaus der wirren Geister, Teil der Kemfert-Stiftung, die Vollversorgung durch Erneuerbare durchgesetzt hat. Vollversorgung bedeutet nun, dass weniger versorgt werden, eigentlich kaum noch welche, denn der Strom wird für \\'die Menschen\\' [Steinmeier] rationiert. Niemand hat gesagt, dass Vollversorgung für alle gelten muss - oder? Koryphen wie Kemfert sind ein wahres Aushngeschild für Bundesakademien. Und wir standen vor dem Dilemma, wen wir nun nominieren. Wie sie sehen, haben wir uns für Kemfert entschieden. Startnummer 6: Sawsan Chebli  der-Woche-44-Sawsan-Chebli.jpg?ssl=1 Nehmen wir die Frage direkt auf. Woran könnte das liegen? Machen wir zunchst eine Bestandausnahme. Musk hat Paypal gegründet, Tesla geschaffen, SpaceX zu einem Hauptplayer US- amerikanischer Raumfahrt gemacht und Twitter für die Kleinigkeit von 44 Milliarden US-Dollar gekauft. Chebli ist nach kurzem Dasein in der Berliner Leiche einer einst sozialdemokratischen Partei arbeitslos, zuletzt an Michael Müller und dem Wahlkreis Charlottenburg-Wilmersdorf gescheitert, dessen SPD-Mitglieder sie trotz Migrationshintergrund nicht im Bundestag haben wollten. Gutmenschliche Böswilligkeit und gelebter Narzissmus in vollstndiger kognitiver Ignoranz: Wahl zum Denkbehinderten der Woche [KW 44] Elon Musk, dem Erfolgreichen, steht also Sawsan Chebli, die Gescheiterte gegenüber. Wenn man das Ergebnis von Lebensentscheidungen als Kriterium nimmt, dann steht es mindestens 4:0 für Musk [Paypal, Tesla, SpaceX und Twiter gegenüber Nichts]. Nun ist aus der Forschung bekannt, dass Leute, die nichts Vorzeigbares erreicht haben, dann, wenn sie dennoch, quasi leistungslosen sozialen Status beanspruchen, letzteren durch die groe Klappe, die sie so sehr an die Grenze zu Dunning-Kruger bringt, wettzumachen versuchen. Und bei Chebli ist die Grenze zu Dunning-Kruger weit überschritten, reit sie doch gar zu sehr ihre Klappe zu Dingen auf, von denen sie keine Ahnung hat. Und hier der Coup de Grace  Growth-Hits-All-T_-https___www.zerohedge.com_politic.png?ssl=1 So viel zum Thema \\'Konzeptlosigkeit und fehlende Strategie bei Twitter\\'. Auch eine groe Klappe gepaart mit Inkompetenz und dem Bemühen, einen Menschen, den man nicht mag, schlecht zu machen, muss temperiert eingesetzt werden. Aber das ist genau das Problem, die Unfhigkeit zur Einschtzung der eigenen Wirkung, das fehlende Urteilsvermögen, das übermchtige Bemühen, sich wichtig zu machen, den eigenen Narzissmus auszuleben Startnummer 7: Janosch Dahmen Zu Janosch Dahmen muss man nichts mehr sagen. Lassen wir ihm den Vortritt, wenn es darum geht, Dahmen lcherlich zu machen. Wie geht es Ihnen? Wenn wir \\'Menschen\\', wie Dahmen das Wort \\'Wissenschaft\\' aussprechen hören, in diesem leicht nasalen Ton, dann gibt das Brechreiz. Ergnzt man den Missbrauch des Begriffs \\'Wissenschaft\\' durch \\'evidente medizinische Fakten\\', die von \\'der riesigen Mehrheit verantwortlicher\\' MENSCHEN natürlich \\'anerkannt werden\\', dann sollte uns diese Aneinanderreihung dessen, was man im Englischen mit dem Begriff \\'spiteful\\' beschreibt, \\'zu denken geben\\'. Spricht hier doch einer, der die letzten Monate nicht mitbekommen hat, der nach wie vor nicht wei, was selbst MS-Medien einrumen müssen, weil \\'DIE WISSENSCHAFT\\' es gezeigt hat: Die Spritzbrühen, von denen Dahmen so manisch besessen ist, sie schützen nicht vor Ansteckung mit, nicht vor bertragung von SARS-CoV-2. Sie sind im Kontakt zu anderen Menschen somit vollkommen IRRELEVANT. Das zu verstehen ist eigentlich einfach. Dennoch weigert sich Dahmen, so wie sich ein kleines Kind weigert, Spinat zu essen. Statt dessen patscht er mit seinen beiden Hnden in den Spinat und bewirft diejenigen, die besser wissen als er was COVID-19 Spritzbrühen leisten bzw. nicht leisten, damit, degradiert sie zu verantwortungslosen Angestellten im Gesundheitswesen. Wenn Sie den Eindruck haben, dass wir die Wettbewerber um den Titel in der vorliegenden Woche nach steigendem Potential zur Bösartigkeit angeordnet haben nun ja, man kann es nicht von der Hand weisen. Das sollte Ihnen zu denken geben! Startnummer 8: Julian Röpcke  Roepke.jpg?ssl=1 Warum, warum so fragen wir, hat sich Röpcke nicht als Grtner bei der Armee der Ukraine freiwillig gemeldet, um den Dünger, den die Ukrainische Armee nach seiner Ansicht aus Russen macht, unterzuharken? Er, der groe Röpcke, der Meister der markigen Sprüche. Soll man tatschlich denken, dass er gleichzeitig der Meister des eingeklappten Schwanzes ist, der sich in die letzte Ecke verkriecht, weil es donnert? Nein, wir weigern uns, das zu denken, und hoffen daher, dass Röpcke seinen menschenverachtenden Anspruch umsetzen kann, in erster Frontlinie, Auge in Auge mit dem noch lebenden Dünger, dem er erst noch die Kugel zwischen die Augen schieen oder die Handgranate in den Panzer werfen muss, zu zeigen, dass er kein schwtzender Schlaffi ist. Das schaffst Du \\'Röpcke\\'! Schwanz ausklappen. Koffer packen. Ticket kaufen. Anmustern. Schieen. Unterharken. Zack, Zack, Zack. Es lebe der hssliche Deutsche. Das waren acht, acht Kandidaten für den Titel des Denkbehinderten der Woche. Wer ist Ihre Wahl? Fabian Jaunuszewski, der Mathematikprofessor, der sich zuweit aus seinem hermetischen System herausgetraut hat? Antonio Guterres, UN-Plagiator auf dem Highway to Hell? Jonas Erbas: stichhaltiger Faktenexpertenkenner für verdrehte Wahrheiten? Frank Walter Steinmeier - kein Mal in seinem Leben für andere etwas tun? Claudia Kemfert: Gutmenschliche Böswilligkeit und gelebter Narzissmus in vollstndiger kognitiver Ignoranz: Wahl zum Denkbehinderten der Woche [KW 44] Berliner Versicherung für dunkle Zeiten? Sawsan Chebli: Hinter Elon Zurückgebliebene? Janosch Dahmen: verantwortungsvoller Spalter? Julian Röpcke, Freiwilliger im Kampf gegen die Düngemittelknappheit? Wie immer, keine leichte Wahl. Narzissmus war das beherrschende Thema der letzten Woche. Im Ausleben desselben hat sich Luisa Neubauer als versiertester Kandidat unter den Aspiranten ausgezeichnet. 315 Leser (32,9%) haben ihre Ansicht, man müsse Verlage, die ihr nicht gefallen, von der Buchmesse aussperren, damit sie, Neubauer, sich sicher fühle, mit dem ersten Platz belohnt. Saskia Esken, die ihren Rückzug von Twitter, das Twitterbeben ist bis heute zu spüren, nutzen wollte, um sich ins rechte, nein linke Licht zu setzen, wurde dafür von 166 Lesern (17,4%) mit ihrer Stimme belohnt. Platz 3 wurde erst heute morgen zugunsten von Jessica Kordouni, die Kartoffelbrei über Kunstwerk als neues Kunstgericht durchsetzen will, entschieden. 139 Leser (14,5%) sprachen Vertrauen in das Potential zur Denkbehinderung aus. 137 Leser (14,3%) gaben Nancy Faeser und deren in Aussicht gestellten Boykott der Fernsehübertragung der Fussballweltmeisterschaft in Katar ihre Stimme. Ein Sack Reis ist im Vergleich zu Faeser wohl als prominent zu bezeichnen, schon weil er es, wenn er umfllt, nicht an die groe Glocke hngt. Es folgen auf den Pltzen: Mario Sixtus (100 Stimmen, 10,5%); Dirk Hilbert (36 Stimmen, 3,8%); Jörg Seisselberg (34 Stimmen, 3,6%); Thomas von Sarnowski (30 Stimmen, 3,1%); Texte, wie dieser, sind ein Grund dafür, dass versucht wird, ScienceFiles die finanzielle Grundlage zu entziehen. Die Deutsche Bank und Paypal haben uns unsere Konten gekündigt. Aber: Weil Sie uns unterstützen, lassen wir uns nicht unterkriegen. Helfen Sie uns, ScienceFiles auf eine solide finanzielle Basis zu stellen: Entweder direkt über die ScienceFiles-Spendenfunktion spenden [das ist sicher und Sie haben die volle Kontrolle über ihre Daten]:  Spenden einfach klicken[5] Oder über unser Spendenkonto bei Halifax:  ScienceFiles Spendenkonto: HALIFAX (Konto-Inhaber: Michael Klein): IBAN: GB15 HLFX 1100 3311 0902 67 BIC: HLFXGB21B24 Wenn Sie ScienceFiles weiterhin lesen wollen, dann sind Sie jetzt gefordert.  kognitiver-ignoranz-wahl-zum-denkbehinderten-der-woche-kw-44/# Related [ 1]:  [ 2]:  [ 3]:  [ 4]:  eliten-teil-6-der-serie-populismus-elitismus-und-das-ringen-um-demokr/ [ 5]:  Link to the original story. Notes The views expressed in any and all content distributed by Newstex and its re-distributors (collectively, the \"Newstex Authoritative Content\") are solely those of the respective author(s) and not necessarily the views of Newstex or its re-distributors. Stories from such authors are provided \"AS IS,\" with no warranties, and confer no rights. The material and information provided in Newstex Authoritative Content are for general information only and should not, in any respect, be relied on as professional advice. Newstex Authoritative Content is not \"read and approved\" before it is posted. Accordingly, neither Newstex nor its re-distributors make any claims, promises or guarantees about the accuracy, completeness, or adequacy of the information contained therein or linked to from such content, Gutmenschliche Böswilligkeit und gelebter Narzissmus in vollstndiger kognitiver Ignoranz: Wahl zum Denkbehinderten der Woche [KW 44] nor do they take responsibility for any aspect of such content. The Newstex Authoritative Content shall be construed as author-based content and commentary. Accordingly, no warranties or other guarantees are offered as to the quality of the opinions, commentary or anything else appearing in such Newstex Authoritative Content. Newstex and its re-distributors expressly reserve the right to delete stories at its and their sole discretion.'"
      ]
     },
     "execution_count": 303,
     "metadata": {},
     "output_type": "execute_result"
    }
   ],
   "source": [
    "df['News Article'][2]"
   ]
  }
 ],
 "metadata": {
  "kernelspec": {
   "display_name": "Python 3",
   "language": "python",
   "name": "python3"
  },
  "language_info": {
   "codemirror_mode": {
    "name": "ipython",
    "version": 3
   },
   "file_extension": ".py",
   "mimetype": "text/x-python",
   "name": "python",
   "nbconvert_exporter": "python",
   "pygments_lexer": "ipython3",
   "version": "3.8.8"
  }
 },
 "nbformat": 4,
 "nbformat_minor": 5
}
