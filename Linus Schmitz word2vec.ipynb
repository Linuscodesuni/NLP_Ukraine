{
 "cells": [
  {
   "cell_type": "code",
   "execution_count": 1,
   "id": "2c08a169-b28d-4e88-8b9a-3fa312e4fe64",
   "metadata": {},
   "outputs": [],
   "source": [
    "# !pip install --user tensorflow\n",
    "\n",
    "import gensim\n",
    "import pandas as pd\n",
    "import tensorflow as tf\n",
    "import numpy as np"
   ]
  },
  {
   "cell_type": "code",
   "execution_count": 2,
   "id": "52688102-cea9-4c15-a6bb-9add2c4b6378",
   "metadata": {},
   "outputs": [],
   "source": [
    "df= pd.read_csv(\"sentimentsdata_V3.csv\")\n",
    "df = df.rename(columns={'News Article': 'Article'})"
   ]
  },
  {
   "cell_type": "code",
   "execution_count": 3,
   "id": "add51cce-fcc6-4083-bd3a-c2b0aee4c6a7",
   "metadata": {},
   "outputs": [],
   "source": [
    "columns_to_drop = ['Unnamed: 0', 'Unnamed: 0.1']\n",
    "df = df.drop(columns=columns_to_drop)\n",
    "df['Remark'] = df['Remark'].replace({'sadness': 'Sadness'})"
   ]
  },
  {
   "cell_type": "code",
   "execution_count": 4,
   "id": "4e87c541-9121-4681-84c2-236e07ac3388",
   "metadata": {},
   "outputs": [],
   "source": [
    "#remove the articles which have neither panzer nor leopard in them \n",
    "df=df.drop(118)\n",
    "df=df.drop(239)\n",
    "df=df.drop(583)"
   ]
  },
  {
   "cell_type": "code",
   "execution_count": 5,
   "id": "45713700-d2a9-4245-8dfb-da81e88c198a",
   "metadata": {},
   "outputs": [
    {
     "data": {
      "text/html": [
       "<div>\n",
       "<style scoped>\n",
       "    .dataframe tbody tr th:only-of-type {\n",
       "        vertical-align: middle;\n",
       "    }\n",
       "\n",
       "    .dataframe tbody tr th {\n",
       "        vertical-align: top;\n",
       "    }\n",
       "\n",
       "    .dataframe thead th {\n",
       "        text-align: right;\n",
       "    }\n",
       "</style>\n",
       "<table border=\"1\" class=\"dataframe\">\n",
       "  <thead>\n",
       "    <tr style=\"text-align: right;\">\n",
       "      <th></th>\n",
       "      <th>Article</th>\n",
       "      <th>News Date</th>\n",
       "      <th>Sentiment</th>\n",
       "      <th>Remark</th>\n",
       "    </tr>\n",
       "  </thead>\n",
       "  <tbody>\n",
       "    <tr>\n",
       "      <th>0</th>\n",
       "      <td>Während die Ukraine weiter auf Kampfpanzer aus...</td>\n",
       "      <td>January 23, 2023</td>\n",
       "      <td>3</td>\n",
       "      <td>Anger</td>\n",
       "    </tr>\n",
       "    <tr>\n",
       "      <th>1</th>\n",
       "      <td>Es kommt selten vor, dass ein General öffentli...</td>\n",
       "      <td>July 30, 2023</td>\n",
       "      <td>3</td>\n",
       "      <td>Anger</td>\n",
       "    </tr>\n",
       "    <tr>\n",
       "      <th>2</th>\n",
       "      <td>VON MARKUS DECKER UND SVEN CHRISTIAN SCHULZ (R...</td>\n",
       "      <td>December 1, 2022</td>\n",
       "      <td>3</td>\n",
       "      <td>Anger</td>\n",
       "    </tr>\n",
       "    <tr>\n",
       "      <th>3</th>\n",
       "      <td>Sie können es nicht richtig machen Heft 41/202...</td>\n",
       "      <td>October 14, 2022</td>\n",
       "      <td>5</td>\n",
       "      <td>Disgust</td>\n",
       "    </tr>\n",
       "    <tr>\n",
       "      <th>4</th>\n",
       "      <td>Ein Ausweg aus dem Wolkenkuckucksheim Immer wi...</td>\n",
       "      <td>February 2, 2023</td>\n",
       "      <td>5</td>\n",
       "      <td>Disgust</td>\n",
       "    </tr>\n",
       "    <tr>\n",
       "      <th>...</th>\n",
       "      <td>...</td>\n",
       "      <td>...</td>\n",
       "      <td>...</td>\n",
       "      <td>...</td>\n",
       "    </tr>\n",
       "    <tr>\n",
       "      <th>751</th>\n",
       "      <td>Ramstein. Auch bei dem hochrangig besetzten Tr...</td>\n",
       "      <td>January 21, 2023</td>\n",
       "      <td>7</td>\n",
       "      <td>Trust</td>\n",
       "    </tr>\n",
       "    <tr>\n",
       "      <th>752</th>\n",
       "      <td>Ein Leser teilt seine Ansichten zum Krieg in d...</td>\n",
       "      <td>January 27, 2023</td>\n",
       "      <td>7</td>\n",
       "      <td>Trust</td>\n",
       "    </tr>\n",
       "    <tr>\n",
       "      <th>753</th>\n",
       "      <td>Wir treffen den ukrainischen Botschafter in se...</td>\n",
       "      <td>June 17, 2023</td>\n",
       "      <td>7</td>\n",
       "      <td>Trust</td>\n",
       "    </tr>\n",
       "    <tr>\n",
       "      <th>754</th>\n",
       "      <td>Seit einem Jahr greift Russland die Ukraine an...</td>\n",
       "      <td>February 19, 2023</td>\n",
       "      <td>6</td>\n",
       "      <td>Surprise</td>\n",
       "    </tr>\n",
       "    <tr>\n",
       "      <th>755</th>\n",
       "      <td>Aus Madrid und La Coruña Anna Lehmann und Rein...</td>\n",
       "      <td>October 6, 2022</td>\n",
       "      <td>6</td>\n",
       "      <td>Surprise</td>\n",
       "    </tr>\n",
       "  </tbody>\n",
       "</table>\n",
       "<p>753 rows × 4 columns</p>\n",
       "</div>"
      ],
      "text/plain": [
       "                                               Article          News Date  \\\n",
       "0    Während die Ukraine weiter auf Kampfpanzer aus...   January 23, 2023   \n",
       "1    Es kommt selten vor, dass ein General öffentli...      July 30, 2023   \n",
       "2    VON MARKUS DECKER UND SVEN CHRISTIAN SCHULZ (R...   December 1, 2022   \n",
       "3    Sie können es nicht richtig machen Heft 41/202...   October 14, 2022   \n",
       "4    Ein Ausweg aus dem Wolkenkuckucksheim Immer wi...   February 2, 2023   \n",
       "..                                                 ...                ...   \n",
       "751  Ramstein. Auch bei dem hochrangig besetzten Tr...   January 21, 2023   \n",
       "752  Ein Leser teilt seine Ansichten zum Krieg in d...   January 27, 2023   \n",
       "753  Wir treffen den ukrainischen Botschafter in se...      June 17, 2023   \n",
       "754  Seit einem Jahr greift Russland die Ukraine an...  February 19, 2023   \n",
       "755  Aus Madrid und La Coruña Anna Lehmann und Rein...    October 6, 2022   \n",
       "\n",
       "     Sentiment    Remark  \n",
       "0            3     Anger  \n",
       "1            3     Anger  \n",
       "2            3     Anger  \n",
       "3            5   Disgust  \n",
       "4            5   Disgust  \n",
       "..         ...       ...  \n",
       "751          7     Trust  \n",
       "752          7     Trust  \n",
       "753          7     Trust  \n",
       "754          6  Surprise  \n",
       "755          6  Surprise  \n",
       "\n",
       "[753 rows x 4 columns]"
      ]
     },
     "execution_count": 5,
     "metadata": {},
     "output_type": "execute_result"
    }
   ],
   "source": [
    "df"
   ]
  },
  {
   "cell_type": "code",
   "execution_count": 6,
   "id": "726ec4af-243b-4604-b90c-26652d4d1fe3",
   "metadata": {},
   "outputs": [],
   "source": [
    "Articles = df.Article.apply(gensim.utils.simple_preprocess)"
   ]
  },
  {
   "cell_type": "code",
   "execution_count": 8,
   "id": "50b663ec-d5cd-4a4b-bd46-99ef96ee7d34",
   "metadata": {},
   "outputs": [
    {
     "data": {
      "text/plain": [
       "0      [während, die, ukraine, weiter, auf, kampfpanz...\n",
       "1      [es, kommt, selten, vor, dass, ein, general, ö...\n",
       "2      [von, markus, decker, und, sven, christian, sc...\n",
       "3      [sie, können, es, nicht, richtig, machen, heft...\n",
       "4      [ein, ausweg, aus, dem, immer, wieder, verwund...\n",
       "                             ...                        \n",
       "751    [ramstein, auch, bei, dem, hochrangig, besetzt...\n",
       "752    [ein, leser, teilt, seine, ansichten, zum, kri...\n",
       "753    [wir, treffen, den, ukrainischen, botschafter,...\n",
       "754    [seit, einem, jahr, greift, russland, die, ukr...\n",
       "755    [aus, madrid, und, la, coruña, anna, lehmann, ...\n",
       "Name: Article, Length: 753, dtype: object"
      ]
     },
     "execution_count": 8,
     "metadata": {},
     "output_type": "execute_result"
    }
   ],
   "source": [
    "Articles"
   ]
  },
  {
   "cell_type": "code",
   "execution_count": 7,
   "id": "1890941a-3cbb-4a9b-9a98-aad4c034fcef",
   "metadata": {},
   "outputs": [],
   "source": [
    "def extract_from_text(texts, delta=50):\n",
    "    sections = []\n",
    "    for words in texts:\n",
    "        parts = \"\"\n",
    "        keyword_idx = []\n",
    "        for count, i in enumerate(words):\n",
    "            if (\"panzer\" in i) or (\"leopard\" in i):\n",
    "                keyword_idx.append(count)\n",
    "\n",
    "        intervals = []\n",
    "        for i in keyword_idx:\n",
    "            intervals.append([i - delta, i + delta])\n",
    "        if len(intervals) > 0:\n",
    "            merged_intervals = [intervals[0]]\n",
    "            for i in range(1, len(intervals)):\n",
    "                current_interval = intervals[i]\n",
    "                last_merged = merged_intervals[-1]\n",
    "                if current_interval[0] <= last_merged[1]:\n",
    "                    merged_intervals[-1] = [last_merged[0], max(last_merged[1], current_interval[1])]\n",
    "                else:\n",
    "                    merged_intervals.append(current_interval)\n",
    "\n",
    "            for i in merged_intervals:\n",
    "                part = []\n",
    "                if i[0] < 0:\n",
    "                    i[0] = 0\n",
    "                for j in range(i[0], i[1]+1):\n",
    "                    if j >= len(words):\n",
    "                        break\n",
    "                    part.append(words[j])\n",
    "\n",
    "                parts += \" | \" + \" \".join(part)\n",
    "\n",
    "            sections.append(parts)\n",
    "\n",
    "    return sections\n",
    "\n",
    "extracted = extract_from_text(Articles)"
   ]
  },
  {
   "cell_type": "code",
   "execution_count": 8,
   "id": "403974b9-b3a4-4db4-b11d-a836d3040cfa",
   "metadata": {},
   "outputs": [
    {
     "data": {
      "text/plain": [
       "753"
      ]
     },
     "execution_count": 8,
     "metadata": {},
     "output_type": "execute_result"
    }
   ],
   "source": [
    "len(extracted)"
   ]
  },
  {
   "cell_type": "code",
   "execution_count": 9,
   "id": "97c1059d-fe86-4698-b32c-581388f76da1",
   "metadata": {},
   "outputs": [
    {
     "data": {
      "text/plain": [
       "' | und fördert sie bedingt abwehrbereit die bundeswehr ist eine dafür sorgen nicht nur mehr als sondern auch zehntausende soldaten deren tätigkeiten eher denen in grossen behörden gleichen denn denen einer truppe die den ernstfall trainiert kampfkraft erzeugen diese nicht sie sitzen im kriegsfall nicht in gräben und stellungen kampf und schützenpanzern schiffen und booten kosten aber viel geld die bundeswehr gibt inzwischen die hälfte ihres budgets für personal aus doch eine armee mit zu vielen häuptlingen für zu wenig indianer ist mit der neuen konfrontation in europa überfordert der krieg in der ukraine zeigt worauf es in einem konflikt an der | papier vor in dem es hiess dass russland pro tag zwischen und verbrauche was die bundeswehr brauchte wäre ein masterplan munition um die depots aufzufüllen doch auch anderthalb jahre nach dem russischen überfall dümpelt die beschaffung vor sich hin anfang juli genehmigte der des bundestags den kauf von artillerie und panzermunition im umfang von millionen euro allerdings sind davon millionen für die direkte unterstützung der ukraine sowie die von an die ukraine abgegebener munition vorgesehen der rest von millionen dient dazu den eigenen vorrat aufzustocken bedingt abwehrbereit das ist ein tropfen auf den heissen stein der finanzielle umfang um munition für | einzulagern liegt bei bis milliarden euro so hat es das berliner vor einigen jahren errechnet allerdings nicht die notwendigen gezogen die hätten darin bestanden langfristige rahmenverträge mit den zu schliessen um die versorgung mit patronen granaten geschossen raketen und lenkflugkörpern nachhaltig zu sichern das ist inzwischen zwar bei artillerie und panzergranaten erfolgt andere munitionssorten aber bleiben aussen vor der grund ist dass und nach wie vor an einer praxis aus früherer zeit festhalten sie besteht darin aufträge europaweit auszuschreiben und in zu verhandeln das mag bei hochkomplexen waffensystemen in einzelfertigung sinnvoll sein aber munition und sind massenware deren produktion dauerhaft gewährleistet'"
      ]
     },
     "execution_count": 9,
     "metadata": {},
     "output_type": "execute_result"
    }
   ],
   "source": [
    "extracted[1]"
   ]
  },
  {
   "cell_type": "code",
   "execution_count": 10,
   "id": "68b4ac2d-0eb2-4e31-872c-cc84bd004592",
   "metadata": {},
   "outputs": [],
   "source": [
    "Articles_processed = [gensim.utils.simple_preprocess(section) for section in extracted]"
   ]
  },
  {
   "cell_type": "code",
   "execution_count": 11,
   "id": "01f71986-4685-48fb-b9fa-e1555d9fa5cf",
   "metadata": {},
   "outputs": [
    {
     "data": {
      "text/plain": [
       "753"
      ]
     },
     "execution_count": 11,
     "metadata": {},
     "output_type": "execute_result"
    }
   ],
   "source": [
    "len(Articles_processed)"
   ]
  },
  {
   "cell_type": "code",
   "execution_count": 12,
   "id": "ff5726ea-148f-4e63-b568-c205a5786224",
   "metadata": {},
   "outputs": [],
   "source": [
    "model= gensim.models.Word2Vec(\n",
    "    window=10,\n",
    "    min_count=1,\n",
    "    workers=4\n",
    "    )"
   ]
  },
  {
   "cell_type": "code",
   "execution_count": 13,
   "id": "e2ae95d5",
   "metadata": {},
   "outputs": [
    {
     "data": {
      "text/plain": [
       "15"
      ]
     },
     "execution_count": 13,
     "metadata": {},
     "output_type": "execute_result"
    }
   ],
   "source": [
    "model.epochs=15\n",
    "model.epochs"
   ]
  },
  {
   "cell_type": "code",
   "execution_count": 14,
   "id": "98b17c93",
   "metadata": {},
   "outputs": [],
   "source": [
    "model.build_vocab(Articles_processed, progress_per=1000)"
   ]
  },
  {
   "cell_type": "code",
   "execution_count": 15,
   "id": "9e291dba",
   "metadata": {},
   "outputs": [
    {
     "data": {
      "text/plain": [
       "(2557508, 3419700)"
      ]
     },
     "execution_count": 15,
     "metadata": {},
     "output_type": "execute_result"
    }
   ],
   "source": [
    "model.train(Articles_processed, total_examples=model.corpus_count, epochs=model.epochs)"
   ]
  },
  {
   "cell_type": "code",
   "execution_count": 15,
   "id": "805e29d9-881b-4056-ad91-9161a098dd40",
   "metadata": {},
   "outputs": [
    {
     "data": {
      "text/plain": [
       "753"
      ]
     },
     "execution_count": 15,
     "metadata": {},
     "output_type": "execute_result"
    }
   ],
   "source": [
    "model.corpus_count"
   ]
  },
  {
   "cell_type": "code",
   "execution_count": 16,
   "id": "d0f35714-435f-485a-a926-d724bfb385a4",
   "metadata": {},
   "outputs": [
    {
     "data": {
      "text/plain": [
       "[('export', 0.7070510983467102),\n",
       " ('hergestellte', 0.7029938101768494),\n",
       " ('genehmigung', 0.7026856541633606),\n",
       " ('spanien', 0.696653425693512),\n",
       " ('polen', 0.6920331716537476),\n",
       " ('portugal', 0.6817083358764648),\n",
       " ('schweden', 0.6801103949546814),\n",
       " ('gestattet', 0.675040066242218),\n",
       " ('typs', 0.6744887232780457),\n",
       " ('zugesagten', 0.6666199564933777)]"
      ]
     },
     "execution_count": 16,
     "metadata": {},
     "output_type": "execute_result"
    }
   ],
   "source": [
    "model.wv.most_similar(\"leopard\")"
   ]
  },
  {
   "cell_type": "code",
   "execution_count": 17,
   "id": "8218b07b-8439-4d64-bd37-04b5558014a3",
   "metadata": {},
   "outputs": [
    {
     "data": {
      "text/plain": [
       "0.78172094"
      ]
     },
     "execution_count": 17,
     "metadata": {},
     "output_type": "execute_result"
    }
   ],
   "source": [
    "model.wv.similarity(w1=\"schlecht\", w2= \"gut\")"
   ]
  },
  {
   "cell_type": "code",
   "execution_count": 18,
   "id": "c98a8cc5-bf81-4a66-88cf-a6fe59661abd",
   "metadata": {},
   "outputs": [],
   "source": [
    "def tokens_to_embeddings(tokens, model):\n",
    "    embeddings = []\n",
    "    for token in tokens:\n",
    "        if token in model.wv:\n",
    "            embeddings.append(model.wv[token])\n",
    "    return embeddings\n",
    "\n",
    "X = [tokens_to_embeddings(tokens, model) for tokens in Articles_processed]"
   ]
  },
  {
   "cell_type": "code",
   "execution_count": 19,
   "id": "afbc4592",
   "metadata": {},
   "outputs": [],
   "source": [
    "from tensorflow.keras.preprocessing.sequence import pad_sequences\n",
    "\n",
    "max_len=300\n",
    "X_padded = pad_sequences(X, maxlen=max_len, dtype='float32', padding='post', truncating='post')\n"
   ]
  },
  {
   "cell_type": "code",
   "execution_count": 20,
   "id": "da65a998-555e-428e-a10f-6bc8187c0f56",
   "metadata": {},
   "outputs": [],
   "source": [
    "from sklearn.model_selection import train_test_split\n",
    "import numpy as np\n",
    "\n",
    "x_train, x_test, y_train, y_test = train_test_split(X_padded, df['Sentiment'].values, test_size=0.2)\n"
   ]
  },
  {
   "cell_type": "code",
   "execution_count": 21,
   "id": "aefa87b3-8d67-445d-8fa5-7713ed58c319",
   "metadata": {},
   "outputs": [
    {
     "data": {
      "text/plain": [
       "(151, 8)"
      ]
     },
     "execution_count": 21,
     "metadata": {},
     "output_type": "execute_result"
    }
   ],
   "source": [
    "from tensorflow.keras.utils import to_categorical\n",
    "\n",
    "num_classes = 8\n",
    "\n",
    "y_train_encoded = to_categorical(y_train, num_classes=num_classes)\n",
    "y_test_encoded=to_categorical(y_test, num_classes=num_classes)\n",
    "y_test_encoded.shape"
   ]
  },
  {
   "cell_type": "code",
   "execution_count": 22,
   "id": "ca95730c-f85e-4315-a7ce-0c9297fd3b6b",
   "metadata": {},
   "outputs": [],
   "source": [
    "from keras.models import Sequential\n",
    "from tensorflow.keras.layers import Embedding, LSTM, Dense, Dropout, BatchNormalization\n",
    "\n",
    "model_lstm= Sequential()\n",
    "model_lstm.add(LSTM(256, return_sequences=True))\n",
    "model_lstm.add(Dropout(0.3))\n",
    "model_lstm.add(LSTM(256, return_sequences=False))\n",
    "model_lstm.add(Dense(8, activation='softmax'))  "
   ]
  },
  {
   "cell_type": "code",
   "execution_count": 23,
   "id": "6b7780d9-9c25-4acc-90a4-4f1c34fa4ce7",
   "metadata": {},
   "outputs": [],
   "source": [
    "model_lstm.compile(optimizer='adam',\n",
    "              loss='categorical_crossentropy',  # Use categorical_crossentropy for multi-class\n",
    "              metrics=['accuracy'])"
   ]
  },
  {
   "cell_type": "code",
   "execution_count": 24,
   "id": "b39898cb-195b-489f-8678-5ce59a06bd8f",
   "metadata": {},
   "outputs": [
    {
     "name": "stdout",
     "output_type": "stream",
     "text": [
      "Epoch 1/10\n",
      "19/19 [==============================] - 51s 2s/step - loss: 1.9926 - accuracy: 0.2193 - val_loss: 1.9027 - val_accuracy: 0.2781\n",
      "Epoch 2/10\n",
      "19/19 [==============================] - 42s 2s/step - loss: 1.8926 - accuracy: 0.2492 - val_loss: 1.8657 - val_accuracy: 0.2649\n",
      "Epoch 3/10\n",
      "19/19 [==============================] - 46s 2s/step - loss: 1.8428 - accuracy: 0.2641 - val_loss: 1.9033 - val_accuracy: 0.2517\n",
      "Epoch 4/10\n",
      "19/19 [==============================] - 47s 3s/step - loss: 1.7713 - accuracy: 0.2924 - val_loss: 1.9445 - val_accuracy: 0.2517\n",
      "Epoch 5/10\n",
      "19/19 [==============================] - 46s 2s/step - loss: 1.6876 - accuracy: 0.3439 - val_loss: 2.0343 - val_accuracy: 0.2384\n",
      "Epoch 6/10\n",
      "19/19 [==============================] - 47s 2s/step - loss: 1.6080 - accuracy: 0.3588 - val_loss: 2.0502 - val_accuracy: 0.2715\n",
      "Epoch 7/10\n",
      "19/19 [==============================] - 44s 2s/step - loss: 1.5085 - accuracy: 0.3771 - val_loss: 2.1555 - val_accuracy: 0.2185\n",
      "Epoch 8/10\n",
      "19/19 [==============================] - 49s 3s/step - loss: 1.3930 - accuracy: 0.4452 - val_loss: 2.3385 - val_accuracy: 0.1987\n",
      "Epoch 9/10\n",
      "19/19 [==============================] - 44s 2s/step - loss: 1.3262 - accuracy: 0.4834 - val_loss: 2.3720 - val_accuracy: 0.2450\n",
      "Epoch 10/10\n",
      "19/19 [==============================] - 44s 2s/step - loss: 1.2610 - accuracy: 0.4751 - val_loss: 2.4478 - val_accuracy: 0.1987\n"
     ]
    },
    {
     "data": {
      "text/plain": [
       "<keras.callbacks.History at 0x2e9583e7eb0>"
      ]
     },
     "execution_count": 24,
     "metadata": {},
     "output_type": "execute_result"
    }
   ],
   "source": [
    "model_lstm.fit(x_train, y_train_encoded, validation_data=(x_test,y_test_encoded), epochs=10, batch_size=32)"
   ]
  },
  {
   "cell_type": "code",
   "execution_count": null,
   "id": "6a35f27e-7f13-4004-a018-3488189faf14",
   "metadata": {},
   "outputs": [],
   "source": []
  }
 ],
 "metadata": {
  "kernelspec": {
   "display_name": "Python 3",
   "language": "python",
   "name": "python3"
  },
  "language_info": {
   "codemirror_mode": {
    "name": "ipython",
    "version": 3
   },
   "file_extension": ".py",
   "mimetype": "text/x-python",
   "name": "python",
   "nbconvert_exporter": "python",
   "pygments_lexer": "ipython3",
   "version": "3.8.8"
  }
 },
 "nbformat": 4,
 "nbformat_minor": 5
}
