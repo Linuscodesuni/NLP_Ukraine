{
 "cells": [
  {
   "cell_type": "code",
   "execution_count": 1,
   "id": "2c08a169-b28d-4e88-8b9a-3fa312e4fe64",
   "metadata": {},
   "outputs": [],
   "source": [
    "import gensim\n",
    "import pandas as pd\n",
    "import tensorflow as tf\n",
    "import numpy as np"
   ]
  },
  {
   "cell_type": "code",
   "execution_count": 2,
   "id": "52688102-cea9-4c15-a6bb-9add2c4b6378",
   "metadata": {},
   "outputs": [],
   "source": [
    "df= pd.read_csv(\"sentimentsdata_V3.csv\")\n",
    "df = df.rename(columns={'News Article': 'Article'})"
   ]
  },
  {
   "cell_type": "code",
   "execution_count": 3,
   "id": "5710e197-16dd-4a00-a1a6-2f08ca0ef539",
   "metadata": {},
   "outputs": [],
   "source": [
    "df['Remark'] = df['Remark'].replace({'sadness': 'Sadness'})"
   ]
  },
  {
   "cell_type": "code",
   "execution_count": 4,
   "id": "17aedb4d-506a-4075-82f5-419c1f3f000b",
   "metadata": {},
   "outputs": [
    {
     "data": {
      "text/plain": [
       "array(['Anger', 'Disgust', 'Fear', 'Sadness', 'Anticipation', 'Joy',\n",
       "       'Surprise', 'Trust'], dtype=object)"
      ]
     },
     "execution_count": 4,
     "metadata": {},
     "output_type": "execute_result"
    }
   ],
   "source": [
    "df['Remark'].unique()"
   ]
  },
  {
   "cell_type": "code",
   "execution_count": 5,
   "id": "add51cce-fcc6-4083-bd3a-c2b0aee4c6a7",
   "metadata": {},
   "outputs": [],
   "source": [
    "columns_to_drop = ['Unnamed: 0', 'Unnamed: 0.1']\n",
    "df = df.drop(columns=columns_to_drop)"
   ]
  },
  {
   "cell_type": "code",
   "execution_count": 6,
   "id": "4e87c541-9121-4681-84c2-236e07ac3388",
   "metadata": {},
   "outputs": [],
   "source": [
    "#remove the articles which have neither panzer nor leopard in them \n",
    "df=df.drop(118)\n",
    "df=df.drop(239)\n",
    "df=df.drop(583)"
   ]
  },
  {
   "cell_type": "code",
   "execution_count": 7,
   "id": "7e768ddc-a080-4609-a960-dd44a4030790",
   "metadata": {},
   "outputs": [
    {
     "name": "stderr",
     "output_type": "stream",
     "text": [
      "Warning : `load_model` does not return WordVectorModel or SupervisedModel any more, but a `FastText` object which is very similar.\n"
     ]
    }
   ],
   "source": [
    "import fasttext.util\n",
    "fasttext.util.download_model('de', if_exists='ignore')\n",
    "ft = fasttext.load_model('cc.de.300.bin')"
   ]
  },
  {
   "cell_type": "code",
   "execution_count": 10,
   "id": "a1099dc2-9eb5-4ec2-b277-28d735ef85df",
   "metadata": {},
   "outputs": [],
   "source": [
    "Articles = df.Article.apply(gensim.utils.simple_preprocess)"
   ]
  },
  {
   "cell_type": "code",
   "execution_count": 11,
   "id": "1890941a-3cbb-4a9b-9a98-aad4c034fcef",
   "metadata": {},
   "outputs": [],
   "source": [
    "def extract_from_text(texts, delta=30):\n",
    "    sections = []\n",
    "    for words in texts:\n",
    "        parts = \"\"\n",
    "        keyword_idx = []\n",
    "        for count, i in enumerate(words):\n",
    "            if (\"panzer\" in i) or (\"leopard\" in i):\n",
    "                keyword_idx.append(count)\n",
    "        intervals = []\n",
    "        for i in keyword_idx:\n",
    "            intervals.append([i - delta, i + delta])\n",
    "        if len(intervals) > 0:\n",
    "            merged_intervals = [intervals[0]]\n",
    "            for i in range(1, len(intervals)):\n",
    "                current_interval = intervals[i]\n",
    "                last_merged = merged_intervals[-1]\n",
    "                if current_interval[0] <= last_merged[1]:\n",
    "                    merged_intervals[-1] = [last_merged[0], max(last_merged[1], current_interval[1])]\n",
    "                else:\n",
    "                    merged_intervals.append(current_interval)\n",
    "\n",
    "            for i in merged_intervals:\n",
    "                part = []\n",
    "                if i[0] < 0:\n",
    "                    i[0] = 0\n",
    "                for j in range(i[0], i[1]+1):\n",
    "                    if j >= len(words):\n",
    "                        break\n",
    "                    part.append(words[j])\n",
    "\n",
    "                parts += \" | \" + \" \".join(part)\n",
    "\n",
    "            sections.append(parts)\n",
    "\n",
    "    return sections\n",
    "\n",
    "extracted = extract_from_text(Articles)"
   ]
  },
  {
   "cell_type": "code",
   "execution_count": 12,
   "id": "68b4ac2d-0eb2-4e31-872c-cc84bd004592",
   "metadata": {},
   "outputs": [],
   "source": [
    "Articles_processed = [gensim.utils.simple_preprocess(section) for section in extracted]"
   ]
  },
  {
   "cell_type": "code",
   "execution_count": 13,
   "id": "c98a8cc5-bf81-4a66-88cf-a6fe59661abd",
   "metadata": {},
   "outputs": [],
   "source": [
    "def tokens_to_embeddings(tokens, model):\n",
    "    embeddings = []\n",
    "    for token in tokens:\n",
    "        if token in ft:\n",
    "            embeddings.append(ft[token])\n",
    "        else:\n",
    "            embeddings.append([0.0] * 300)\n",
    "    return embeddings\n",
    "\n",
    "X = [tokens_to_embeddings(tokens, ft) for tokens in Articles_processed]"
   ]
  },
  {
   "cell_type": "code",
   "execution_count": 13,
   "id": "afbc4592",
   "metadata": {},
   "outputs": [],
   "source": [
    "from tensorflow.keras.preprocessing.sequence import pad_sequences\n",
    "\n",
    "max_len=300\n",
    "X_padded = pad_sequences(X, maxlen=max_len, dtype='float32', padding='post', truncating='post')\n"
   ]
  },
  {
   "cell_type": "code",
   "execution_count": 14,
   "id": "da65a998-555e-428e-a10f-6bc8187c0f56",
   "metadata": {},
   "outputs": [],
   "source": [
    "from sklearn.model_selection import train_test_split\n",
    "import numpy as np\n",
    "\n",
    "x_train, x_test, y_train, y_test = train_test_split(X_padded, df['Sentiment'].values, test_size=0.2)\n"
   ]
  },
  {
   "cell_type": "code",
   "execution_count": 15,
   "id": "aefa87b3-8d67-445d-8fa5-7713ed58c319",
   "metadata": {},
   "outputs": [
    {
     "data": {
      "text/plain": [
       "(151, 8)"
      ]
     },
     "execution_count": 15,
     "metadata": {},
     "output_type": "execute_result"
    }
   ],
   "source": [
    "from tensorflow.keras.utils import to_categorical\n",
    "\n",
    "num_classes = 8\n",
    "\n",
    "y_train_encoded = to_categorical(y_train, num_classes=num_classes)\n",
    "y_test_encoded=to_categorical(y_test, num_classes=num_classes)\n",
    "y_test_encoded.shape"
   ]
  },
  {
   "cell_type": "code",
   "execution_count": 28,
   "id": "395dc246-9b05-4715-82b7-6061b15cc783",
   "metadata": {},
   "outputs": [
    {
     "data": {
      "text/plain": [
       "(602, 300, 300)"
      ]
     },
     "execution_count": 28,
     "metadata": {},
     "output_type": "execute_result"
    }
   ],
   "source": [
    "x_train.shape"
   ]
  },
  {
   "cell_type": "code",
   "execution_count": 29,
   "id": "f73b7f54-5183-4a12-9f9c-a45e9a5f61d9",
   "metadata": {},
   "outputs": [
    {
     "data": {
      "text/plain": [
       "(151, 300, 300)"
      ]
     },
     "execution_count": 29,
     "metadata": {},
     "output_type": "execute_result"
    }
   ],
   "source": [
    "x_test.shape"
   ]
  },
  {
   "cell_type": "code",
   "execution_count": 30,
   "id": "0610b381-d8c8-4bfd-b30e-87d70b4ee1a3",
   "metadata": {},
   "outputs": [
    {
     "data": {
      "text/plain": [
       "(602, 8)"
      ]
     },
     "execution_count": 30,
     "metadata": {},
     "output_type": "execute_result"
    }
   ],
   "source": [
    "y_train_encoded.shape"
   ]
  },
  {
   "cell_type": "code",
   "execution_count": 31,
   "id": "9a51de92-8146-4fe5-bbbe-a353ebd5dc23",
   "metadata": {},
   "outputs": [
    {
     "data": {
      "text/plain": [
       "(151, 8)"
      ]
     },
     "execution_count": 31,
     "metadata": {},
     "output_type": "execute_result"
    }
   ],
   "source": [
    "y_test_encoded.shape"
   ]
  },
  {
   "cell_type": "code",
   "execution_count": null,
   "id": "54bb0fbe-0f49-49fc-b170-c68c16f929c3",
   "metadata": {},
   "outputs": [],
   "source": []
  },
  {
   "cell_type": "code",
   "execution_count": 16,
   "id": "ca95730c-f85e-4315-a7ce-0c9297fd3b6b",
   "metadata": {},
   "outputs": [],
   "source": [
    "from keras.models import Sequential\n",
    "from tensorflow.keras.layers import Embedding, LSTM, Dense, Dropout, BatchNormalization\n",
    "\n",
    "model_lstm= Sequential()\n",
    "model_lstm.add(LSTM(256, return_sequences=True))\n",
    "model_lstm.add(Dropout(0.3))\n",
    "model_lstm.add(LSTM(256, return_sequences=False))\n",
    "model_lstm.add(Dense(8, activation='softmax'))  "
   ]
  },
  {
   "cell_type": "code",
   "execution_count": 17,
   "id": "6b7780d9-9c25-4acc-90a4-4f1c34fa4ce7",
   "metadata": {},
   "outputs": [],
   "source": [
    "model.compile(optimizer='adam',\n",
    "              loss='categorical_crossentropy',\n",
    "              metrics=['accuracy'])"
   ]
  },
  {
   "cell_type": "code",
   "execution_count": 18,
   "id": "b39898cb-195b-489f-8678-5ce59a06bd8f",
   "metadata": {},
   "outputs": [
    {
     "name": "stdout",
     "output_type": "stream",
     "text": [
      "Epoch 1/5\n",
      "19/19 [==============================] - 150s 8s/step - loss: 2.0512 - accuracy: 0.2326 - val_loss: 2.0015 - val_accuracy: 0.2517\n",
      "Epoch 2/5\n",
      "19/19 [==============================] - 147s 8s/step - loss: 1.9443 - accuracy: 0.2359 - val_loss: 1.9726 - val_accuracy: 0.2185\n",
      "Epoch 3/5\n",
      "19/19 [==============================] - 145s 8s/step - loss: 1.9078 - accuracy: 0.2259 - val_loss: 1.9362 - val_accuracy: 0.2517\n",
      "Epoch 4/5\n",
      "19/19 [==============================] - 149s 8s/step - loss: 1.8922 - accuracy: 0.2525 - val_loss: 1.9383 - val_accuracy: 0.2252\n",
      "Epoch 5/5\n",
      "19/19 [==============================] - 150s 8s/step - loss: 1.8794 - accuracy: 0.2608 - val_loss: 1.9464 - val_accuracy: 0.2252\n"
     ]
    },
    {
     "data": {
      "text/plain": [
       "<keras.callbacks.History at 0x269c702d970>"
      ]
     },
     "execution_count": 18,
     "metadata": {},
     "output_type": "execute_result"
    }
   ],
   "source": [
    "model.fit(x_train, y_train_encoded, validation_data=(x_test,y_test_encoded), epochs=5, batch_size=32)"
   ]
  },
  {
   "cell_type": "code",
   "execution_count": null,
   "id": "6a35f27e-7f13-4004-a018-3488189faf14",
   "metadata": {},
   "outputs": [],
   "source": []
  }
 ],
 "metadata": {
  "kernelspec": {
   "display_name": "Python 3",
   "language": "python",
   "name": "python3"
  },
  "language_info": {
   "codemirror_mode": {
    "name": "ipython",
    "version": 3
   },
   "file_extension": ".py",
   "mimetype": "text/x-python",
   "name": "python",
   "nbconvert_exporter": "python",
   "pygments_lexer": "ipython3",
   "version": "3.8.8"
  }
 },
 "nbformat": 4,
 "nbformat_minor": 5
}
